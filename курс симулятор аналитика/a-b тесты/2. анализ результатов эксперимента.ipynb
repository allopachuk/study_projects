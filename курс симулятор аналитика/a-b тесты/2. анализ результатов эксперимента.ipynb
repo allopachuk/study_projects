{
 "cells": [
  {
   "cell_type": "markdown",
   "id": "4e5ec3ad-ffea-4577-a95b-ab0fb6ea432f",
   "metadata": {},
   "source": [
    "## Анализ результатов эксперимента"
   ]
  },
  {
   "cell_type": "markdown",
   "id": "06d90d11-2a5a-4a3c-b97e-1f4a8c98bec0",
   "metadata": {},
   "source": [
    "Проанализируем результаты эксперимента, который проходил с 2023-01-01 по 2023-01-07 включительно. Для эксперимента были задействованы 1 и 2 группы. В группе 2 был использован один из новых алгоритмов рекомендации постов, группа 1 использовалась в качестве контроля.  \n",
    "Основная гипотеза заключается в том, что новый алгоритм во 2-й группе приведет к увеличению CTR.  \n",
    "Сравним CTR двух групп различными тестами."
   ]
  },
  {
   "cell_type": "markdown",
   "id": "73db974b-6141-400f-b9dc-857698362132",
   "metadata": {},
   "source": [
    "1. Подключаемся к базе данных"
   ]
  },
  {
   "cell_type": "code",
   "execution_count": 1,
   "id": "65a42b8d-6ce1-439f-bb79-a892e6cbac68",
   "metadata": {},
   "outputs": [],
   "source": [
    "connection = {'host': 'https://clickhouse.lab.karpov.courses',\n",
    "                      'database':'simulator_20230120',\n",
    "                      'user':'student', \n",
    "                      'password':'dpo_python_2020'\n",
    "             }"
   ]
  },
  {
   "cell_type": "markdown",
   "id": "46bda279-a220-4654-801e-14a9f784fcd5",
   "metadata": {},
   "source": [
    "2. Импортируем нужные библиотеки"
   ]
  },
  {
   "cell_type": "code",
   "execution_count": 2,
   "id": "f6aaefe0-5f5b-4c81-b077-37d16747f424",
   "metadata": {},
   "outputs": [],
   "source": [
    "import pandahouse as ph\n",
    "import pandas as pd\n",
    "import seaborn as sns\n",
    "import matplotlib.pyplot as plt\n",
    "import numpy as np\n",
    "import hashlib\n",
    "from scipy import stats\n",
    "%matplotlib inline"
   ]
  },
  {
   "cell_type": "markdown",
   "id": "3450371a-cf7b-4bf8-b870-35ce3028643c",
   "metadata": {},
   "source": [
    "3. Формируем общий dataframe и передаём переменным строки, соответствуюшие группе пользователей"
   ]
  },
  {
   "cell_type": "code",
   "execution_count": 3,
   "id": "73704d81-9eef-4ab0-9ddd-20ad33de5350",
   "metadata": {},
   "outputs": [],
   "source": [
    "q = \"\"\"\n",
    "SELECT exp_group, \n",
    "    user_id,\n",
    "    sum(action = 'like') AS likes,\n",
    "    sum(action = 'view') AS views,\n",
    "    likes/views AS ctr\n",
    "FROM {db}.feed_actions \n",
    "WHERE toDate(time) BETWEEN '2023-01-01' AND '2023-01-07'\n",
    "  AND exp_group IN (1, 2)\n",
    "GROUP BY exp_group, user_id\n",
    "\"\"\"\n",
    "\n",
    "df = ph.read_clickhouse(q, connection=connection)\n",
    "\n",
    "group_A = df[df.exp_group == 1].copy()\n",
    "group_B = df[df.exp_group == 2].copy()"
   ]
  },
  {
   "cell_type": "code",
   "execution_count": 4,
   "id": "28cc2b56-6ec2-4063-a130-a97183e6f6d5",
   "metadata": {},
   "outputs": [
    {
     "data": {
      "text/html": [
       "<div>\n",
       "<style scoped>\n",
       "    .dataframe tbody tr th:only-of-type {\n",
       "        vertical-align: middle;\n",
       "    }\n",
       "\n",
       "    .dataframe tbody tr th {\n",
       "        vertical-align: top;\n",
       "    }\n",
       "\n",
       "    .dataframe thead th {\n",
       "        text-align: right;\n",
       "    }\n",
       "</style>\n",
       "<table border=\"1\" class=\"dataframe\">\n",
       "  <thead>\n",
       "    <tr style=\"text-align: right;\">\n",
       "      <th></th>\n",
       "      <th>exp_group</th>\n",
       "      <th>user_id</th>\n",
       "      <th>likes</th>\n",
       "      <th>views</th>\n",
       "      <th>ctr</th>\n",
       "    </tr>\n",
       "  </thead>\n",
       "  <tbody>\n",
       "    <tr>\n",
       "      <th>0</th>\n",
       "      <td>1</td>\n",
       "      <td>109963</td>\n",
       "      <td>3</td>\n",
       "      <td>15</td>\n",
       "      <td>0.200000</td>\n",
       "    </tr>\n",
       "    <tr>\n",
       "      <th>1</th>\n",
       "      <td>1</td>\n",
       "      <td>26117</td>\n",
       "      <td>32</td>\n",
       "      <td>141</td>\n",
       "      <td>0.226950</td>\n",
       "    </tr>\n",
       "    <tr>\n",
       "      <th>2</th>\n",
       "      <td>1</td>\n",
       "      <td>138232</td>\n",
       "      <td>18</td>\n",
       "      <td>73</td>\n",
       "      <td>0.246575</td>\n",
       "    </tr>\n",
       "    <tr>\n",
       "      <th>3</th>\n",
       "      <td>1</td>\n",
       "      <td>26295</td>\n",
       "      <td>33</td>\n",
       "      <td>122</td>\n",
       "      <td>0.270492</td>\n",
       "    </tr>\n",
       "    <tr>\n",
       "      <th>4</th>\n",
       "      <td>1</td>\n",
       "      <td>18392</td>\n",
       "      <td>7</td>\n",
       "      <td>32</td>\n",
       "      <td>0.218750</td>\n",
       "    </tr>\n",
       "  </tbody>\n",
       "</table>\n",
       "</div>"
      ],
      "text/plain": [
       "   exp_group  user_id  likes  views       ctr\n",
       "0          1   109963      3     15  0.200000\n",
       "1          1    26117     32    141  0.226950\n",
       "2          1   138232     18     73  0.246575\n",
       "3          1    26295     33    122  0.270492\n",
       "4          1    18392      7     32  0.218750"
      ]
     },
     "execution_count": 4,
     "metadata": {},
     "output_type": "execute_result"
    }
   ],
   "source": [
    "df.head()"
   ]
  },
  {
   "cell_type": "markdown",
   "id": "8a400973-3094-47ff-a933-d1753dce3886",
   "metadata": {},
   "source": [
    "4. Построим гистограмму распределения CTR в группах A и B."
   ]
  },
  {
   "cell_type": "code",
   "execution_count": 5,
   "id": "c05c6505-3e03-42bf-b25c-8febe2a3a45a",
   "metadata": {},
   "outputs": [
    {
     "data": {
      "text/plain": [
       "<AxesSubplot:xlabel='ctr', ylabel='Count'>"
      ]
     },
     "execution_count": 5,
     "metadata": {},
     "output_type": "execute_result"
    },
    {
     "data": {
      "image/png": "[encoded data removed]",
      "text/plain": [
       "<Figure size 864x648 with 1 Axes>"
      ]
     },
     "metadata": {},
     "output_type": "display_data"
    }
   ],
   "source": [
    "sns.set(rc={'figure.figsize':(12, 9)})\n",
    "\n",
    "sns.histplot(data=df, \n",
    "              x='ctr', \n",
    "              hue='exp_group', \n",
    "              palette=['r', 'b'],\n",
    "              alpha=0.5,\n",
    "              kde=False)"
   ]
  },
  {
   "cell_type": "markdown",
   "id": "535ab952-fa0e-421f-8272-10197ec7fbe1",
   "metadata": {},
   "source": [
    "Судя по графику, распределение CTR в первой (контрольной) группе похоже на унимодальное, а во второй - на бимодальное.\n",
    "Мы видим, что у большего числа пользователей второй группы CTR уменьшился.\n",
    "Вероятно, причина в том, что не всем пользователям понравилась работа нового алгоритма, \n",
    "не на всех он сработал так, как было задумано."
   ]
  },
  {
   "cell_type": "markdown",
   "id": "310f61fa-be74-435c-8d21-509511ec567a",
   "metadata": {},
   "source": [
    "5. Применим t-тест"
   ]
  },
  {
   "cell_type": "code",
   "execution_count": 6,
   "id": "87b83b4d-1541-4784-a5f0-05ebc857e58d",
   "metadata": {},
   "outputs": [
    {
     "data": {
      "text/plain": [
       "Ttest_indResult(statistic=0.7094392041270486, pvalue=0.4780623130874935)"
      ]
     },
     "execution_count": 6,
     "metadata": {},
     "output_type": "execute_result"
    }
   ],
   "source": [
    "stats.ttest_ind(group_A.ctr, group_B.ctr, equal_var=False)"
   ]
  },
  {
   "cell_type": "code",
   "execution_count": 7,
   "id": "032616e4-219a-4f91-ba3a-b216387acc62",
   "metadata": {},
   "outputs": [
    {
     "data": {
      "text/plain": [
       "(0.21560459841296287, 0.21441927347479375)"
      ]
     },
     "execution_count": 7,
     "metadata": {},
     "output_type": "execute_result"
    }
   ],
   "source": [
    "group_A.ctr.mean(), group_B.ctr.mean()"
   ]
  },
  {
   "cell_type": "markdown",
   "id": "c65a655d-8727-4dd5-a71d-4ecc5d519ba8",
   "metadata": {},
   "source": [
    "t-тест не показывает статистически значимых различий CTR между двумя выборками (p-value > 0.05), \n",
    "так как, несмотря на разное распределение, средние значения CTR двух групп примерно одинаковы."
   ]
  },
  {
   "cell_type": "markdown",
   "id": "45629db2-1eb5-4cd6-bbf2-38fe53842325",
   "metadata": {},
   "source": [
    "6. Применим тест Манна-Уитни"
   ]
  },
  {
   "cell_type": "code",
   "execution_count": 8,
   "id": "907a1869-8800-46b5-bec6-c6dcd528671a",
   "metadata": {},
   "outputs": [
    {
     "data": {
      "text/plain": [
       "MannwhitneyuResult(statistic=56601260.5, pvalue=6.0376484617779035e-56)"
      ]
     },
     "execution_count": 8,
     "metadata": {},
     "output_type": "execute_result"
    }
   ],
   "source": [
    "stats.mannwhitneyu(group_A.ctr, \n",
    "                   group_B.ctr,\n",
    "                   alternative = 'two-sided')"
   ]
  },
  {
   "cell_type": "markdown",
   "id": "35932818-7f81-444a-a830-ed02b413f539",
   "metadata": {},
   "source": [
    "Тест Манна-Уитни показал, что различия есть (p-value < 0.05)"
   ]
  },
  {
   "cell_type": "markdown",
   "id": "7bc701b1-c281-4aec-99b5-f9f4b168021c",
   "metadata": {},
   "source": [
    "7. Применим t-тест на сглаженном CTR"
   ]
  },
  {
   "cell_type": "code",
   "execution_count": 9,
   "id": "0d832e16-ffb8-4e8a-9b0a-103c9a7c9494",
   "metadata": {},
   "outputs": [
    {
     "data": {
      "text/plain": [
       "Ttest_indResult(statistic=2.2841320431616983, pvalue=0.0223769815558559)"
      ]
     },
     "execution_count": 9,
     "metadata": {},
     "output_type": "execute_result"
    }
   ],
   "source": [
    "def get_smoothed_ctr(user_likes, user_views, global_ctr, alpha):\n",
    "    smoothed_ctr = (user_likes + alpha * global_ctr) / (user_views + alpha)\n",
    "    return smoothed_ctr\n",
    "\n",
    "global_ctr_A = group_A.likes.sum() / group_A.views.sum()\n",
    "global_ctr_B = group_B.likes.sum() / group_B.views.sum()\n",
    "\n",
    "group_A['smoothed_ctr'] = df.apply(\n",
    "    lambda x: get_smoothed_ctr(x['likes'], x['views'], global_ctr_A, 5), axis=1)\n",
    "group_B['smoothed_ctr'] = df.apply(\n",
    "    lambda x: get_smoothed_ctr(x['likes'], x['views'], global_ctr_B, 5), axis=1)\n",
    "\n",
    "stats.ttest_ind(group_A.smoothed_ctr,\n",
    "                group_B.smoothed_ctr,\n",
    "                equal_var=False)"
   ]
  },
  {
   "cell_type": "markdown",
   "id": "5249c7b2-d919-4823-b0a3-988011418b91",
   "metadata": {},
   "source": [
    "После сглаживания CTR t-тест показал, что различия есть (p-value < 0.05)"
   ]
  },
  {
   "cell_type": "markdown",
   "id": "1f9643e1-2c71-408e-99c1-91f9fff1416b",
   "metadata": {},
   "source": [
    "8. Применим пуассоновский bootstrap"
   ]
  },
  {
   "cell_type": "code",
   "execution_count": 10,
   "id": "f25e3adc-7bfa-49d6-9203-e8ab80d7c996",
   "metadata": {},
   "outputs": [],
   "source": [
    "def bootstrap(likes1, views1, likes2, views2, n_bootstrap=2000):\n",
    "\n",
    "    poisson_bootstraps1 = stats.poisson(1).rvs(\n",
    "        (n_bootstrap, len(likes1))).astype(np.int64)\n",
    "\n",
    "    poisson_bootstraps2 = stats.poisson(1).rvs(\n",
    "            (n_bootstrap, len(likes2))).astype(np.int64)\n",
    "    \n",
    "    globalCTR1 = (poisson_bootstraps1*likes1).sum(axis=1)/(poisson_bootstraps1*views1).sum(axis=1)\n",
    "    \n",
    "    globalCTR2 = (poisson_bootstraps2*likes2).sum(axis=1)/(poisson_bootstraps2*views2).sum(axis=1)\n",
    "\n",
    "    return globalCTR1, globalCTR2\n",
    "\n",
    "likes_A = group_A.likes.to_numpy()\n",
    "views_A = group_A.views.to_numpy()\n",
    "likes_B = group_B.likes.to_numpy()\n",
    "views_B = group_B.views.to_numpy()\n",
    "\n",
    "ctr_A, ctr_B = bootstrap(likes_A, views_A, likes_B, views_B)"
   ]
  },
  {
   "cell_type": "markdown",
   "id": "acc310c2-2924-47aa-93c8-b28c352b7fe9",
   "metadata": {},
   "source": [
    "8.1. Построим гистограмму распределения CTR в группах A и B после применения функции"
   ]
  },
  {
   "cell_type": "code",
   "execution_count": 11,
   "id": "21071777-6304-4a08-97bd-d2a47d4ad6d1",
   "metadata": {},
   "outputs": [
    {
     "data": {
      "text/plain": [
       "<AxesSubplot:ylabel='Count'>"
      ]
     },
     "execution_count": 11,
     "metadata": {},
     "output_type": "execute_result"
    },
    {
     "data": {
      "image/png": "[encoded data removed]",
      "text/plain": [
       "<Figure size 864x648 with 1 Axes>"
      ]
     },
     "metadata": {},
     "output_type": "display_data"
    }
   ],
   "source": [
    "sns.histplot(ctr_A)\n",
    "sns.histplot(ctr_B)"
   ]
  },
  {
   "cell_type": "markdown",
   "id": "0a53a57d-abe4-4d9a-9e58-228e0672af08",
   "metadata": {},
   "source": [
    "График показывает, что различия между группами есть"
   ]
  },
  {
   "cell_type": "markdown",
   "id": "c3412c98-c62b-486f-a4b9-fb6543054454",
   "metadata": {},
   "source": [
    "8.2. Построим гистограмму распределения разницы между глобальными CTR двух групп"
   ]
  },
  {
   "cell_type": "code",
   "execution_count": 12,
   "id": "2bf36ebf-614d-4674-ac43-471dff40ef7a",
   "metadata": {},
   "outputs": [
    {
     "data": {
      "text/plain": [
       "<AxesSubplot:ylabel='Count'>"
      ]
     },
     "execution_count": 12,
     "metadata": {},
     "output_type": "execute_result"
    },
    {
     "data": {
      "image/png": "[encoded data removed]",
      "text/plain": [
       "<Figure size 864x648 with 1 Axes>"
      ]
     },
     "metadata": {},
     "output_type": "display_data"
    }
   ],
   "source": [
    "sns.histplot(ctr_B - ctr_A)"
   ]
  },
  {
   "cell_type": "markdown",
   "id": "8e30c4de-dedf-4b41-90de-b510dac6059f",
   "metadata": {},
   "source": [
    "График распределения не пересекает ноль, следовательно, различия между группами статистически значимы.\n",
    "Значения на графике отрицательные, следовательно, глобальный CTR во группе B (тестовой) меньше, чем в группе A (контрольной)."
   ]
  },
  {
   "cell_type": "markdown",
   "id": "5c97599a-9e69-4126-888c-4c4652b15ad5",
   "metadata": {},
   "source": [
    "9. Применим бакетное преобразование"
   ]
  },
  {
   "cell_type": "code",
   "execution_count": 13,
   "id": "9102c609-da9d-40ec-a77d-82faf3d70228",
   "metadata": {},
   "outputs": [],
   "source": [
    "q_bucket = \"\"\"\n",
    "SELECT exp_group, bucket,\n",
    "       sum(likes)/sum(views) AS bucket_ctr,\n",
    "       quantileExact(0.9)(ctr) AS ctr9\n",
    "  FROM (SELECT exp_group, \n",
    "               xxHash64(user_id)%50 AS bucket,\n",
    "               user_id,\n",
    "               sum(action = 'like') AS likes,\n",
    "               sum(action = 'view') AS views,\n",
    "               likes/views AS ctr\n",
    "          FROM {db}.feed_actions \n",
    "         WHERE toDate(time) BETWEEN '2023-01-01' AND '2023-01-07'\n",
    "           AND exp_group IN (1, 2)\n",
    "      GROUP BY exp_group, bucket, user_id)\n",
    "GROUP BY exp_group, bucket\n",
    "\"\"\"\n",
    "\n",
    "df_bucket = ph.read_clickhouse(q_bucket, connection=connection)"
   ]
  },
  {
   "cell_type": "markdown",
   "id": "1b91e474-7bb6-4631-bcd7-506260525acd",
   "metadata": {},
   "source": [
    "9.1. Применим t-тест после бакетного преобразования"
   ]
  },
  {
   "cell_type": "code",
   "execution_count": 14,
   "id": "9224a699-a353-4767-812d-7a5c50935c80",
   "metadata": {},
   "outputs": [
    {
     "data": {
      "text/plain": [
       "Ttest_indResult(statistic=5.668234732053979, pvalue=3.4455951649945907e-07)"
      ]
     },
     "execution_count": 14,
     "metadata": {},
     "output_type": "execute_result"
    }
   ],
   "source": [
    "stats.ttest_ind(df_bucket[df_bucket.exp_group == 1].bucket_ctr, \n",
    "                df_bucket[df_bucket.exp_group == 2].bucket_ctr, \n",
    "                equal_var = False)"
   ]
  },
  {
   "cell_type": "markdown",
   "id": "8557c1b7-1013-4d49-bad5-034427ff81a6",
   "metadata": {},
   "source": [
    "t-тест поверх бакетного преобразования показал, что различия есть (p-value < 0.05)"
   ]
  },
  {
   "cell_type": "markdown",
   "id": "dd1a8600-a9e2-43f8-baeb-26d42a6f710b",
   "metadata": {},
   "source": [
    "9.2. Применим тест Манна-Уитни после бакетного преобразования"
   ]
  },
  {
   "cell_type": "code",
   "execution_count": 15,
   "id": "90413661-ebab-403a-81ac-0f758bbc6a4f",
   "metadata": {},
   "outputs": [
    {
     "data": {
      "text/plain": [
       "MannwhitneyuResult(statistic=1995.0, pvalue=2.859963936492646e-07)"
      ]
     },
     "execution_count": 15,
     "metadata": {},
     "output_type": "execute_result"
    }
   ],
   "source": [
    "stats.mannwhitneyu(df_bucket[df_bucket.exp_group == 1].bucket_ctr, \n",
    "                   df_bucket[df_bucket.exp_group == 2].bucket_ctr, \n",
    "                   alternative = 'two-sided')"
   ]
  },
  {
   "cell_type": "markdown",
   "id": "ff8e0d1f-fcc4-4719-9af5-f5450b14d66c",
   "metadata": {},
   "source": [
    "Тест Манна-Уитни поверх бакетного преобразования показал, что различия есть (p-value < 0.05)"
   ]
  },
  {
   "cell_type": "markdown",
   "id": "77c0bd22-cce3-4dff-ac49-18c30dc27de9",
   "metadata": {},
   "source": [
    "9.3. Построим гистограмму распределения CTR в группах A и B после бакетного преобразования"
   ]
  },
  {
   "cell_type": "code",
   "execution_count": 16,
   "id": "0ca5fedc-f35b-4e98-8ba6-5913917bbb16",
   "metadata": {},
   "outputs": [
    {
     "data": {
      "text/plain": [
       "<AxesSubplot:xlabel='bucket_ctr', ylabel='Count'>"
      ]
     },
     "execution_count": 16,
     "metadata": {},
     "output_type": "execute_result"
    },
    {
     "data": {
      "image/png": "[encoded data removed]",
      "text/plain": [
       "<Figure size 864x648 with 1 Axes>"
      ]
     },
     "metadata": {},
     "output_type": "display_data"
    }
   ],
   "source": [
    "sns.histplot(data=df_bucket, \n",
    "              x='bucket_ctr', \n",
    "              hue='exp_group', \n",
    "              palette=['r', 'b'],\n",
    "              alpha=0.5,\n",
    "              kde=False)"
   ]
  },
  {
   "cell_type": "code",
   "execution_count": 17,
   "id": "705e9ee1-7021-497d-a1ab-7055e42d2c52",
   "metadata": {},
   "outputs": [
    {
     "data": {
      "text/plain": [
       "(0.20812170724336013, 0.19825944666552928)"
      ]
     },
     "execution_count": 17,
     "metadata": {},
     "output_type": "execute_result"
    }
   ],
   "source": [
    "df_bucket[df_bucket.exp_group == 1].bucket_ctr.mean(), df_bucket[df_bucket.exp_group == 2].bucket_ctr.mean()"
   ]
  },
  {
   "cell_type": "markdown",
   "id": "6fb355cc-94a4-41e6-b01b-ca0695d6c34c",
   "metadata": {},
   "source": [
    "Средний CTR после бакетного преобразования во второй группе (тестовой) меньше, чем в первой (контрольной)"
   ]
  },
  {
   "cell_type": "markdown",
   "id": "69c7a28b-1af5-44d7-8f01-2e7dc8ab9c02",
   "metadata": {},
   "source": [
    "### Вывод\n",
    "\n",
    "При анализе данных хуже всего показал себя t-тест, остальные тесты показали статистически значимые различия между группами A и B.\n",
    "Пуассоновский бутстреп показал отрицательное влияние нововведений на измеряемую метрику, поэтому новый алгоритм применять не рекомендуется."
   ]
  }
 ],
 "metadata": {
  "kernelspec": {
   "display_name": "Python 3 (ipykernel)",
   "language": "python",
   "name": "python3"
  },
  "language_info": {
   "codemirror_mode": {
    "name": "ipython",
    "version": 3
   },
   "file_extension": ".py",
   "mimetype": "text/x-python",
   "name": "python",
   "nbconvert_exporter": "python",
   "pygments_lexer": "ipython3",
   "version": "3.8.10"
  }
 },
 "nbformat": 4,
 "nbformat_minor": 5
}
