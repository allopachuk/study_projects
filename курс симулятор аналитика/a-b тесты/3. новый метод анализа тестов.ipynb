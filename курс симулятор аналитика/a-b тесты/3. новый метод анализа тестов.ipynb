{
 "cells": [
  {
   "cell_type": "markdown",
   "id": "8f6847b6-a9d6-404f-a429-354d9859f5c4",
   "metadata": {},
   "source": [
    "## Новый метод анализа тестов над метриками-отношениями"
   ]
  },
  {
   "cell_type": "markdown",
   "id": "6c4ee02d-ed5d-40ce-83a8-5fc0a264806a",
   "metadata": {},
   "source": [
    "Исследователи из Яндекса разработали метод анализа тестов над метриками-отношениями вида x / y (у нас likes / views).\n",
    "\n",
    "Идея метода заключается в следующем:\n",
    "\n",
    "Вместо того, чтобы заталкивать в тест «поюзерные» CTR, можно сконструировать другую метрику и анализировать ее, но при этом гарантируется (в отличие от сглаженного CTR), что если тест на этой другой метрике «прокрасится» и увидит изменения, значит изменения есть и в метрике исходной (то есть в лайках на пользователя и в пользовательских CTR).\n",
    "\n",
    "При этом метод сам по себе очень прост. Что это за метрика такая?\n",
    "\n",
    "- Считаем общий CTR в контрольной группе: CTR_control = sum(likes) / sum(views) \n",
    "- Считаем в обеих группах поюзерную метрику: linearized_likes = likes - CTR_control * views \n",
    "- Сравниваем  t-тестом отличия в группах по метрике linearized_likes"
   ]
  },
  {
   "cell_type": "markdown",
   "id": "1bb260d9-1008-451a-87f3-0e39d3af11bd",
   "metadata": {},
   "source": [
    "### Проанализируем тест между группами 0 и 3 по метрике линеаризованных лайков"
   ]
  },
  {
   "cell_type": "markdown",
   "id": "e34d85ae-1a89-4de2-9e28-56f3c5ca53a5",
   "metadata": {},
   "source": [
    "1. Подключаемся к базе данных"
   ]
  },
  {
   "cell_type": "code",
   "execution_count": 3,
   "id": "0891234c-7445-4b7f-bc0d-39f913cc531b",
   "metadata": {},
   "outputs": [],
   "source": [
    "connection = {'host': 'https://clickhouse.lab.karpov.courses',\n",
    "                      'database':'simulator_20230120',\n",
    "                      'user':'student', \n",
    "                      'password':'dpo_python_2020'\n",
    "             }"
   ]
  },
  {
   "cell_type": "markdown",
   "id": "e4d0f06e-3f1c-485c-9969-e8c5c0bfe508",
   "metadata": {},
   "source": [
    "2. Импортируем нужные библиотеки"
   ]
  },
  {
   "cell_type": "code",
   "execution_count": 4,
   "id": "d25d2263-9ddd-4a11-a6fa-414acc718072",
   "metadata": {
    "tags": []
   },
   "outputs": [],
   "source": [
    "import pandahouse as ph\n",
    "import pandas as pd\n",
    "import seaborn as sns\n",
    "import matplotlib.pyplot as plt\n",
    "import numpy as np\n",
    "from scipy import stats\n",
    "%matplotlib inline"
   ]
  },
  {
   "cell_type": "markdown",
   "id": "d8244a5a-6f63-4717-b5f4-31c7279ea3d5",
   "metadata": {},
   "source": [
    "3. Формируем общий dataframe для пользователей групп 0 и 3"
   ]
  },
  {
   "cell_type": "code",
   "execution_count": 5,
   "id": "9cf52c43-9c1c-48b6-9a92-958143c75946",
   "metadata": {
    "tags": []
   },
   "outputs": [],
   "source": [
    "q = \"\"\"\n",
    "SELECT exp_group, \n",
    "       user_id,\n",
    "       sum(action = 'like') AS likes,\n",
    "       sum(action = 'view') AS views,\n",
    "       likes / views AS ctr\n",
    "  FROM {db}.feed_actions \n",
    " WHERE toDate(time) BETWEEN '2023-01-01' AND '2023-01-07'\n",
    "   AND exp_group IN (0, 3)\n",
    "GROUP BY exp_group, user_id\n",
    "\"\"\"\n",
    "\n",
    "df = ph.read_clickhouse(q, connection=connection)"
   ]
  },
  {
   "cell_type": "code",
   "execution_count": 6,
   "id": "c029c4e2-4582-4bb2-b28f-a595c0bc3239",
   "metadata": {},
   "outputs": [
    {
     "data": {
      "text/html": [
       "<div>\n",
       "<style scoped>\n",
       "    .dataframe tbody tr th:only-of-type {\n",
       "        vertical-align: middle;\n",
       "    }\n",
       "\n",
       "    .dataframe tbody tr th {\n",
       "        vertical-align: top;\n",
       "    }\n",
       "\n",
       "    .dataframe thead th {\n",
       "        text-align: right;\n",
       "    }\n",
       "</style>\n",
       "<table border=\"1\" class=\"dataframe\">\n",
       "  <thead>\n",
       "    <tr style=\"text-align: right;\">\n",
       "      <th></th>\n",
       "      <th>exp_group</th>\n",
       "      <th>user_id</th>\n",
       "      <th>likes</th>\n",
       "      <th>views</th>\n",
       "      <th>ctr</th>\n",
       "    </tr>\n",
       "  </thead>\n",
       "  <tbody>\n",
       "    <tr>\n",
       "      <th>0</th>\n",
       "      <td>3</td>\n",
       "      <td>115383</td>\n",
       "      <td>9</td>\n",
       "      <td>30</td>\n",
       "      <td>0.300000</td>\n",
       "    </tr>\n",
       "    <tr>\n",
       "      <th>1</th>\n",
       "      <td>3</td>\n",
       "      <td>123580</td>\n",
       "      <td>13</td>\n",
       "      <td>48</td>\n",
       "      <td>0.270833</td>\n",
       "    </tr>\n",
       "    <tr>\n",
       "      <th>2</th>\n",
       "      <td>0</td>\n",
       "      <td>4944</td>\n",
       "      <td>8</td>\n",
       "      <td>41</td>\n",
       "      <td>0.195122</td>\n",
       "    </tr>\n",
       "    <tr>\n",
       "      <th>3</th>\n",
       "      <td>0</td>\n",
       "      <td>4504</td>\n",
       "      <td>5</td>\n",
       "      <td>15</td>\n",
       "      <td>0.333333</td>\n",
       "    </tr>\n",
       "    <tr>\n",
       "      <th>4</th>\n",
       "      <td>0</td>\n",
       "      <td>121508</td>\n",
       "      <td>18</td>\n",
       "      <td>88</td>\n",
       "      <td>0.204545</td>\n",
       "    </tr>\n",
       "  </tbody>\n",
       "</table>\n",
       "</div>"
      ],
      "text/plain": [
       "   exp_group  user_id  likes  views       ctr\n",
       "0          3   115383      9     30  0.300000\n",
       "1          3   123580     13     48  0.270833\n",
       "2          0     4944      8     41  0.195122\n",
       "3          0     4504      5     15  0.333333\n",
       "4          0   121508     18     88  0.204545"
      ]
     },
     "execution_count": 6,
     "metadata": {},
     "output_type": "execute_result"
    }
   ],
   "source": [
    "df.head()"
   ]
  },
  {
   "cell_type": "markdown",
   "id": "9cc4ab66-b452-4fe9-8903-bd6fe362ae69",
   "metadata": {},
   "source": [
    "4. Для каждого пользователя обеих групп рассчитаем метрику линеаризованных лайков"
   ]
  },
  {
   "cell_type": "markdown",
   "id": "a2e46a6d-cd78-42b4-985f-52d558f790fb",
   "metadata": {},
   "source": [
    "4.1. Считаем общий CTR в контрольной группе"
   ]
  },
  {
   "cell_type": "code",
   "execution_count": 7,
   "id": "05f76621-39b5-42b8-9a8f-3249bf8ec490",
   "metadata": {},
   "outputs": [],
   "source": [
    "ctr_control = df[df.exp_group == 0].likes.sum() / df[df.exp_group == 0].views.sum()"
   ]
  },
  {
   "cell_type": "markdown",
   "id": "721d2eaa-a748-42ef-8778-58df291b33ec",
   "metadata": {},
   "source": [
    "4.2. Рассчитаем метрику линеаризованных лайков"
   ]
  },
  {
   "cell_type": "code",
   "execution_count": 8,
   "id": "7de4e6b1-b03d-4928-a569-3cb69693f711",
   "metadata": {},
   "outputs": [],
   "source": [
    "df['linearized_likes'] = df['likes'] - ctr_control * df['views']"
   ]
  },
  {
   "cell_type": "markdown",
   "id": "dbe3babe-85d2-4d90-8645-540a03ac75c8",
   "metadata": {},
   "source": [
    "5. Применим t-тест к CTR обеих групп"
   ]
  },
  {
   "cell_type": "code",
   "execution_count": 9,
   "id": "013afbcc-fddc-4431-aad7-48a9b133ec5a",
   "metadata": {},
   "outputs": [
    {
     "data": {
      "text/plain": [
       "Ttest_indResult(statistic=-13.896870721904069, pvalue=1.055849414662529e-43)"
      ]
     },
     "execution_count": 9,
     "metadata": {},
     "output_type": "execute_result"
    }
   ],
   "source": [
    "stats.ttest_ind(df[df.exp_group == 0].ctr,\n",
    "                df[df.exp_group == 3].ctr,\n",
    "                equal_var=False)"
   ]
  },
  {
   "cell_type": "markdown",
   "id": "edfec499-ec48-4e32-95bd-a4c314c18bf5",
   "metadata": {},
   "source": [
    "Тест показал, что различия есть (p-value < 0.05)"
   ]
  },
  {
   "cell_type": "markdown",
   "id": "0ee363c1-372a-4e5e-b64b-a9fac7402760",
   "metadata": {},
   "source": [
    "5.1. Построим гистограмму распределения CTR"
   ]
  },
  {
   "cell_type": "code",
   "execution_count": 10,
   "id": "c34373b0-12cc-4cc4-9bcd-05774713caf4",
   "metadata": {},
   "outputs": [
    {
     "data": {
      "text/plain": [
       "<AxesSubplot:xlabel='ctr', ylabel='Count'>"
      ]
     },
     "execution_count": 10,
     "metadata": {},
     "output_type": "execute_result"
    },
    {
     "data": {
      "image/png": "[encoded data removed]",
      "text/plain": [
       "<Figure size 864x648 with 1 Axes>"
      ]
     },
     "metadata": {},
     "output_type": "display_data"
    }
   ],
   "source": [
    "sns.set(rc={'figure.figsize':(12, 9)})\n",
    "\n",
    "sns.histplot(data=df, \n",
    "              x='ctr', \n",
    "              hue='exp_group', \n",
    "              palette=['r', 'b'],\n",
    "              alpha=0.5,\n",
    "              kde=False)"
   ]
  },
  {
   "cell_type": "markdown",
   "id": "8e7b6275-afb4-443f-85ef-69dc1588cedb",
   "metadata": {},
   "source": [
    "6. Применим t-тест к метрике линеаризованных лайков обеих групп"
   ]
  },
  {
   "cell_type": "code",
   "execution_count": 11,
   "id": "17be2d1e-ded2-4c4c-ab23-34ad34a9b1f2",
   "metadata": {},
   "outputs": [
    {
     "data": {
      "text/plain": [
       "Ttest_indResult(statistic=-15.21499546090383, pvalue=5.4914249479687664e-52)"
      ]
     },
     "execution_count": 11,
     "metadata": {},
     "output_type": "execute_result"
    }
   ],
   "source": [
    "stats.ttest_ind(df[df.exp_group == 0].linearized_likes,\n",
    "                df[df.exp_group == 3].linearized_likes,\n",
    "                equal_var=False)"
   ]
  },
  {
   "cell_type": "markdown",
   "id": "88c86d25-0155-465f-8f79-c32efa7138ef",
   "metadata": {},
   "source": [
    "Тест показал, что различия есть (p-value < 0.05)"
   ]
  },
  {
   "cell_type": "markdown",
   "id": "0d17d0b8-458b-4bdb-a0f2-8922440150f8",
   "metadata": {},
   "source": [
    "6.1. Построим гистограмму распределения линеаризованных лайков"
   ]
  },
  {
   "cell_type": "code",
   "execution_count": 12,
   "id": "10001bc3-993c-4dc4-89bb-7e78dbc5cead",
   "metadata": {},
   "outputs": [
    {
     "data": {
      "text/plain": [
       "<AxesSubplot:xlabel='linearized_likes', ylabel='Count'>"
      ]
     },
     "execution_count": 12,
     "metadata": {},
     "output_type": "execute_result"
    },
    {
     "data": {
      "image/png": "[encoded data removed]",
      "text/plain": [
       "<Figure size 864x648 with 1 Axes>"
      ]
     },
     "metadata": {},
     "output_type": "display_data"
    }
   ],
   "source": [
    "sns.histplot(data=df, \n",
    "              x='linearized_likes', \n",
    "              hue='exp_group', \n",
    "              palette=['r', 'b'],\n",
    "              alpha=0.5,\n",
    "              kde=False)"
   ]
  },
  {
   "cell_type": "markdown",
   "id": "dde1eca2-2315-4254-8017-38bb9ba723c7",
   "metadata": {},
   "source": [
    "### Вывод\n",
    "\n",
    "Оба t-теста в группах 0 и 3 показали статистически значимое различие между ними (p-value < 0.05).\n",
    "\n",
    "p-value в t-тесте по метрике линеаризованных лайков меньше, чем в t-тесте по CTR, следовательно, тест чувствительнее."
   ]
  },
  {
   "cell_type": "markdown",
   "id": "3f867e46-e481-4460-abe0-53f85c6f8129",
   "metadata": {},
   "source": [
    "### Проанализируем тест между группами 1 и 2 по метрике линеаризованных лайков"
   ]
  },
  {
   "cell_type": "markdown",
   "id": "c66f4f59-49ee-4ecc-9f78-766ce6d824b3",
   "metadata": {},
   "source": [
    "7. Формируем общий dataframe для пользователей групп 1 и 2"
   ]
  },
  {
   "cell_type": "code",
   "execution_count": 13,
   "id": "7c7492fd-81de-4775-9299-f9e315460b31",
   "metadata": {},
   "outputs": [],
   "source": [
    "q = \"\"\"\n",
    "SELECT exp_group, \n",
    "       user_id,\n",
    "       sum(action = 'like') AS likes,\n",
    "       sum(action = 'view') AS views,\n",
    "       likes / views AS ctr\n",
    "  FROM {db}.feed_actions \n",
    " WHERE toDate(time) BETWEEN '2023-01-01' AND '2023-01-07'\n",
    "   AND exp_group IN (1, 2)\n",
    "GROUP BY exp_group, user_id\n",
    "\"\"\"\n",
    "\n",
    "df = ph.read_clickhouse(q, connection=connection)"
   ]
  },
  {
   "cell_type": "code",
   "execution_count": 14,
   "id": "3c1bc1e4-aafa-4608-a908-8efedbd80577",
   "metadata": {},
   "outputs": [
    {
     "data": {
      "text/html": [
       "<div>\n",
       "<style scoped>\n",
       "    .dataframe tbody tr th:only-of-type {\n",
       "        vertical-align: middle;\n",
       "    }\n",
       "\n",
       "    .dataframe tbody tr th {\n",
       "        vertical-align: top;\n",
       "    }\n",
       "\n",
       "    .dataframe thead th {\n",
       "        text-align: right;\n",
       "    }\n",
       "</style>\n",
       "<table border=\"1\" class=\"dataframe\">\n",
       "  <thead>\n",
       "    <tr style=\"text-align: right;\">\n",
       "      <th></th>\n",
       "      <th>exp_group</th>\n",
       "      <th>user_id</th>\n",
       "      <th>likes</th>\n",
       "      <th>views</th>\n",
       "      <th>ctr</th>\n",
       "    </tr>\n",
       "  </thead>\n",
       "  <tbody>\n",
       "    <tr>\n",
       "      <th>0</th>\n",
       "      <td>1</td>\n",
       "      <td>109963</td>\n",
       "      <td>3</td>\n",
       "      <td>15</td>\n",
       "      <td>0.200000</td>\n",
       "    </tr>\n",
       "    <tr>\n",
       "      <th>1</th>\n",
       "      <td>1</td>\n",
       "      <td>26117</td>\n",
       "      <td>32</td>\n",
       "      <td>141</td>\n",
       "      <td>0.226950</td>\n",
       "    </tr>\n",
       "    <tr>\n",
       "      <th>2</th>\n",
       "      <td>1</td>\n",
       "      <td>138232</td>\n",
       "      <td>18</td>\n",
       "      <td>73</td>\n",
       "      <td>0.246575</td>\n",
       "    </tr>\n",
       "    <tr>\n",
       "      <th>3</th>\n",
       "      <td>1</td>\n",
       "      <td>26295</td>\n",
       "      <td>33</td>\n",
       "      <td>122</td>\n",
       "      <td>0.270492</td>\n",
       "    </tr>\n",
       "    <tr>\n",
       "      <th>4</th>\n",
       "      <td>1</td>\n",
       "      <td>18392</td>\n",
       "      <td>7</td>\n",
       "      <td>32</td>\n",
       "      <td>0.218750</td>\n",
       "    </tr>\n",
       "  </tbody>\n",
       "</table>\n",
       "</div>"
      ],
      "text/plain": [
       "   exp_group  user_id  likes  views       ctr\n",
       "0          1   109963      3     15  0.200000\n",
       "1          1    26117     32    141  0.226950\n",
       "2          1   138232     18     73  0.246575\n",
       "3          1    26295     33    122  0.270492\n",
       "4          1    18392      7     32  0.218750"
      ]
     },
     "execution_count": 14,
     "metadata": {},
     "output_type": "execute_result"
    }
   ],
   "source": [
    "df.head()"
   ]
  },
  {
   "cell_type": "markdown",
   "id": "f98ca0f4-a091-41e6-a907-92a14bbd8f18",
   "metadata": {},
   "source": [
    "8. Для каждого пользователя обеих групп рассчитаем метрику линеаризованных лайков"
   ]
  },
  {
   "cell_type": "markdown",
   "id": "e42cb62f-1aaa-453f-842d-74cae97cdfca",
   "metadata": {},
   "source": [
    "8.1. Считаем общий CTR в контрольной группе"
   ]
  },
  {
   "cell_type": "code",
   "execution_count": 15,
   "id": "48c4b8d8-cd25-4161-bb96-7576d3fa8760",
   "metadata": {},
   "outputs": [],
   "source": [
    "ctr_control = df[df.exp_group == 1].likes.sum() / df[df.exp_group == 1].views.sum()"
   ]
  },
  {
   "cell_type": "markdown",
   "id": "42666ce1-6d4b-4d39-b86f-c014919045a1",
   "metadata": {},
   "source": [
    "8.2. Рассчитаем метрику линеаризованных лайков"
   ]
  },
  {
   "cell_type": "code",
   "execution_count": 16,
   "id": "8d536435-5ac5-4d21-acbf-bce3e7825e45",
   "metadata": {},
   "outputs": [],
   "source": [
    "df['linearized_likes'] = df['likes'] - ctr_control * df['views']"
   ]
  },
  {
   "cell_type": "markdown",
   "id": "89c95bde-ed25-4056-b1c6-b4431aef6730",
   "metadata": {},
   "source": [
    "9. Применим t-тест к CTR обеих групп"
   ]
  },
  {
   "cell_type": "code",
   "execution_count": 17,
   "id": "9bac06dd-1ffb-4241-bd9d-843bcbf837d2",
   "metadata": {},
   "outputs": [
    {
     "data": {
      "text/plain": [
       "Ttest_indResult(statistic=0.7094392041270486, pvalue=0.4780623130874935)"
      ]
     },
     "execution_count": 17,
     "metadata": {},
     "output_type": "execute_result"
    }
   ],
   "source": [
    "stats.ttest_ind(df[df.exp_group == 1].ctr,\n",
    "                df[df.exp_group == 2].ctr,\n",
    "                equal_var=False)"
   ]
  },
  {
   "cell_type": "markdown",
   "id": "4d99ab79-538c-40bf-8d73-f7de7e03ebac",
   "metadata": {},
   "source": [
    "Тест показал, что различий нет (p-value > 0.05)"
   ]
  },
  {
   "cell_type": "markdown",
   "id": "18ace2fc-4e3a-4986-959b-eb34254c6a1f",
   "metadata": {},
   "source": [
    "9.1. Построим гистограмму распределения CTR"
   ]
  },
  {
   "cell_type": "code",
   "execution_count": 18,
   "id": "f4931caf-eb23-4262-95db-e1591afa980a",
   "metadata": {},
   "outputs": [
    {
     "data": {
      "text/plain": [
       "<AxesSubplot:xlabel='ctr', ylabel='Count'>"
      ]
     },
     "execution_count": 18,
     "metadata": {},
     "output_type": "execute_result"
    },
    {
     "data": {
      "image/png": "[encoded data removed]",
      "text/plain": [
       "<Figure size 864x648 with 1 Axes>"
      ]
     },
     "metadata": {},
     "output_type": "display_data"
    }
   ],
   "source": [
    "sns.histplot(data=df, \n",
    "              x='ctr', \n",
    "              hue='exp_group', \n",
    "              palette=['r', 'b'],\n",
    "              alpha=0.5,\n",
    "              kde=False)"
   ]
  },
  {
   "cell_type": "markdown",
   "id": "e60ee50f-8fd6-4454-b4b0-0a0fe7424cea",
   "metadata": {},
   "source": [
    "10. Применим t-тест к метрике линеаризованных лайков обеих групп"
   ]
  },
  {
   "cell_type": "code",
   "execution_count": 19,
   "id": "50f79e92-d5e5-429b-9a67-4d451dd972c0",
   "metadata": {},
   "outputs": [
    {
     "data": {
      "text/plain": [
       "Ttest_indResult(statistic=6.122579994775973, pvalue=9.439432187037712e-10)"
      ]
     },
     "execution_count": 19,
     "metadata": {},
     "output_type": "execute_result"
    }
   ],
   "source": [
    "stats.ttest_ind(df[df.exp_group == 1].linearized_likes,\n",
    "                df[df.exp_group == 2].linearized_likes,\n",
    "                equal_var=False)"
   ]
  },
  {
   "cell_type": "markdown",
   "id": "b8028801-a9a1-4e4e-acb8-39430f55e54b",
   "metadata": {},
   "source": [
    "Тест показал, что различия есть (p-value < 0.05)"
   ]
  },
  {
   "cell_type": "markdown",
   "id": "acaa899f-1ff0-4d3e-82a1-c9e956209c9a",
   "metadata": {},
   "source": [
    "10.1. Построим гистограмму распределения линеаризованных лайков"
   ]
  },
  {
   "cell_type": "code",
   "execution_count": 20,
   "id": "52c4d4db-9ae6-4f1a-85b2-b8ec3573e6d8",
   "metadata": {},
   "outputs": [
    {
     "data": {
      "text/plain": [
       "<AxesSubplot:xlabel='linearized_likes', ylabel='Count'>"
      ]
     },
     "execution_count": 20,
     "metadata": {},
     "output_type": "execute_result"
    },
    {
     "data": {
      "image/png": "[encoded data removed]",
      "text/plain": [
       "<Figure size 864x648 with 1 Axes>"
      ]
     },
     "metadata": {},
     "output_type": "display_data"
    }
   ],
   "source": [
    "sns.histplot(data=df, \n",
    "              x='linearized_likes', \n",
    "              hue='exp_group', \n",
    "              palette=['r', 'b'],\n",
    "              alpha=0.5,\n",
    "              kde=False)"
   ]
  },
  {
   "cell_type": "markdown",
   "id": "3e5de8a4-be8d-4727-a95d-1cf9a9bd8a8e",
   "metadata": {},
   "source": [
    "### Вывод\n",
    "\n",
    "t-тест по CTR в группах 1 и 2 не показал различия между ними (p-value > 0.05).\n",
    "\n",
    "p-value в t-тесте по метрике линеаризованных лайков намного меньше, чем в t-тесте по CTR (p-value < 0.05), \n",
    "этот тест показал различия между группами, следовательно, он чувствительнее."
   ]
  }
 ],
 "metadata": {
  "kernelspec": {
   "display_name": "Python 3 (ipykernel)",
   "language": "python",
   "name": "python3"
  },
  "language_info": {
   "codemirror_mode": {
    "name": "ipython",
    "version": 3
   },
   "file_extension": ".py",
   "mimetype": "text/x-python",
   "name": "python",
   "nbconvert_exporter": "python",
   "pygments_lexer": "ipython3",
   "version": "3.8.10"
  }
 },
 "nbformat": 4,
 "nbformat_minor": 5
}
