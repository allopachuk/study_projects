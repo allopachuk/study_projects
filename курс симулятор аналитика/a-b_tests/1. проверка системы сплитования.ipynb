{
 "cells": [
  {
   "cell_type": "markdown",
   "id": "c3b1845f-a953-4f6f-b6d4-c2720dfa5f13",
   "metadata": {},
   "source": [
    "## Проверка работы системы сплитования пользователей"
   ]
  },
  {
   "cell_type": "markdown",
   "id": "da940480-fc69-4a18-bdbe-ad2d17dfb12a",
   "metadata": {},
   "source": [
    "Есть данные АА-теста с '2022-12-25' по '2022-12-31'. Убедимся в том, что система сплитования работает корректно, и ключевая метрика не отличается между группами не только в конкретно нашем АА-тесте, но и в целом. Сделаем симуляцию, как будто мы провели 10000 АА-тестов. На каждой итерации сформируем подвыборки без повторения в 500 пользователей из 2 и 3 экспериментальной группы. Проведём сравнение этих подвыборок t-testом."
   ]
  },
  {
   "cell_type": "markdown",
   "id": "9dbb85e2-a944-4d94-81d0-05fab715399e",
   "metadata": {},
   "source": [
    "1. Подключаемся к базе данных"
   ]
  },
  {
   "cell_type": "code",
   "execution_count": 1,
   "id": "99752457-ce7c-4f95-895f-9532d5c90f81",
   "metadata": {},
   "outputs": [],
   "source": [
    "connection = {'host': 'https://clickhouse.lab.karpov.courses',\n",
    "                      'database':'simulator_20230120',\n",
    "                      'user':'student', \n",
    "                      'password':'dpo_python_2020'\n",
    "             }"
   ]
  },
  {
   "cell_type": "markdown",
   "id": "fe7c7ee5-6ee5-4196-b4ef-b4ac6eee6a47",
   "metadata": {},
   "source": [
    "2. Импортируем нужные библиотеки"
   ]
  },
  {
   "cell_type": "code",
   "execution_count": 2,
   "id": "6c1a0e44-51d2-4c6e-a579-07fc56be9638",
   "metadata": {},
   "outputs": [],
   "source": [
    "import pandahouse as ph\n",
    "import pandas as pd\n",
    "import seaborn as sns\n",
    "import matplotlib.pyplot as plt\n",
    "import numpy as np\n",
    "from scipy import stats\n",
    "%matplotlib inline"
   ]
  },
  {
   "cell_type": "markdown",
   "id": "1ac5ecec-829d-4619-8520-f5c94212d221",
   "metadata": {},
   "source": [
    "3. Формируем общий dataframe и передаём переменным строки, соответствуюшие группе пользователей"
   ]
  },
  {
   "cell_type": "code",
   "execution_count": 3,
   "id": "c9067792-5dfe-4415-8a89-318e36d11f81",
   "metadata": {},
   "outputs": [],
   "source": [
    "q = \"\"\"\n",
    "SELECT exp_group, \n",
    "    user_id,\n",
    "    sum(action = 'like') AS likes,\n",
    "    sum(action = 'view') AS views,\n",
    "    likes/views AS ctr\n",
    "FROM {db}.feed_actions \n",
    "WHERE toDate(time) BETWEEN '2022-12-25' AND '2022-12-31'\n",
    "  AND exp_group IN (2, 3)\n",
    "GROUP BY exp_group, user_id\n",
    "\"\"\"\n",
    "\n",
    "df = ph.read_clickhouse(q, connection=connection)\n",
    "\n",
    "group_A = df[df.exp_group == 2].copy()\n",
    "group_B = df[df.exp_group == 3].copy()"
   ]
  },
  {
   "cell_type": "code",
   "execution_count": 4,
   "id": "bb9952c7-ecee-4289-8c2e-d81caea705bb",
   "metadata": {},
   "outputs": [
    {
     "data": {
      "text/html": [
       "<div>\n",
       "<style scoped>\n",
       "    .dataframe tbody tr th:only-of-type {\n",
       "        vertical-align: middle;\n",
       "    }\n",
       "\n",
       "    .dataframe tbody tr th {\n",
       "        vertical-align: top;\n",
       "    }\n",
       "\n",
       "    .dataframe thead th {\n",
       "        text-align: right;\n",
       "    }\n",
       "</style>\n",
       "<table border=\"1\" class=\"dataframe\">\n",
       "  <thead>\n",
       "    <tr style=\"text-align: right;\">\n",
       "      <th></th>\n",
       "      <th>exp_group</th>\n",
       "      <th>user_id</th>\n",
       "      <th>likes</th>\n",
       "      <th>views</th>\n",
       "      <th>ctr</th>\n",
       "    </tr>\n",
       "  </thead>\n",
       "  <tbody>\n",
       "    <tr>\n",
       "      <th>0</th>\n",
       "      <td>3</td>\n",
       "      <td>115383</td>\n",
       "      <td>11</td>\n",
       "      <td>36</td>\n",
       "      <td>0.305556</td>\n",
       "    </tr>\n",
       "    <tr>\n",
       "      <th>1</th>\n",
       "      <td>3</td>\n",
       "      <td>123580</td>\n",
       "      <td>15</td>\n",
       "      <td>92</td>\n",
       "      <td>0.163043</td>\n",
       "    </tr>\n",
       "    <tr>\n",
       "      <th>2</th>\n",
       "      <td>2</td>\n",
       "      <td>131473</td>\n",
       "      <td>26</td>\n",
       "      <td>148</td>\n",
       "      <td>0.175676</td>\n",
       "    </tr>\n",
       "    <tr>\n",
       "      <th>3</th>\n",
       "      <td>2</td>\n",
       "      <td>23985</td>\n",
       "      <td>12</td>\n",
       "      <td>66</td>\n",
       "      <td>0.181818</td>\n",
       "    </tr>\n",
       "    <tr>\n",
       "      <th>4</th>\n",
       "      <td>2</td>\n",
       "      <td>24523</td>\n",
       "      <td>17</td>\n",
       "      <td>120</td>\n",
       "      <td>0.141667</td>\n",
       "    </tr>\n",
       "  </tbody>\n",
       "</table>\n",
       "</div>"
      ],
      "text/plain": [
       "   exp_group  user_id  likes  views       ctr\n",
       "0          3   115383     11     36  0.305556\n",
       "1          3   123580     15     92  0.163043\n",
       "2          2   131473     26    148  0.175676\n",
       "3          2    23985     12     66  0.181818\n",
       "4          2    24523     17    120  0.141667"
      ]
     },
     "execution_count": 4,
     "metadata": {},
     "output_type": "execute_result"
    }
   ],
   "source": [
    "df.head()"
   ]
  },
  {
   "cell_type": "markdown",
   "id": "0a13e667-f768-42ef-9bca-c5b55bf71568",
   "metadata": {},
   "source": [
    "4. Выбираем из групп А и В по 500 значений, применяем t-тест к этим группам и записываем результат в список. \n",
    "Повторяем 10000 раз и строим график распределения p-value."
   ]
  },
  {
   "cell_type": "code",
   "execution_count": 5,
   "id": "be2bb509-5c19-4d06-bcc1-5e064d507052",
   "metadata": {},
   "outputs": [
    {
     "data": {
      "text/plain": [
       "<seaborn.axisgrid.FacetGrid at 0x7f9e53912d00>"
      ]
     },
     "execution_count": 5,
     "metadata": {},
     "output_type": "execute_result"
    },
    {
     "data": {
      "image/png": "[encoded data removed]",
      "text/plain": [
       "<Figure size 360x360 with 1 Axes>"
      ]
     },
     "metadata": {
      "needs_background": "light"
     },
     "output_type": "display_data"
    }
   ],
   "source": [
    "p_list = []\n",
    "for _ in range(10000):\n",
    "    p_value = stats.ttest_ind(group_A.ctr.sample(500, replace=False), \n",
    "                              group_B.ctr.sample(500, replace=False), \n",
    "                              equal_var=False)\n",
    "    p_list.append(p_value.pvalue)\n",
    "sns.displot(p_list)"
   ]
  },
  {
   "cell_type": "markdown",
   "id": "25ce5de9-2bf2-45ff-8501-75873b3217e8",
   "metadata": {},
   "source": [
    "5. Посчитаем, какой процент p-values оказался меньше или равен 0.05."
   ]
  },
  {
   "cell_type": "code",
   "execution_count": 6,
   "id": "774137c2-912c-4b9b-9590-9445e4bd4dff",
   "metadata": {},
   "outputs": [
    {
     "data": {
      "text/plain": [
       "4.49"
      ]
     },
     "execution_count": 6,
     "metadata": {},
     "output_type": "execute_result"
    }
   ],
   "source": [
    "sum(np.array(p_list) < 0.05) / 10000 * 100"
   ]
  },
  {
   "cell_type": "markdown",
   "id": "e7dbf441-c6ad-4d0b-9d25-32c2a37eb414",
   "metadata": {},
   "source": [
    "### Вывод\n",
    "\n",
    "Судя по графику, распределение p-values похоже на равномерное. Процент p-values, который меньше или равен 0.05, меньше 5. \n",
    "Статистически значимые различия между 2 и 3 группой проявляются только в ~4.49 % случаев.\n",
    "Следовательно, статистически значимой разницы между группами нет, и система сплитования работает корректно"
   ]
  }
 ],
 "metadata": {
  "kernelspec": {
   "display_name": "Python 3 (ipykernel)",
   "language": "python",
   "name": "python3"
  },
  "language_info": {
   "codemirror_mode": {
    "name": "ipython",
    "version": 3
   },
   "file_extension": ".py",
   "mimetype": "text/x-python",
   "name": "python",
   "nbconvert_exporter": "python",
   "pygments_lexer": "ipython3",
   "version": "3.8.10"
  }
 },
 "nbformat": 4,
 "nbformat_minor": 5
}
