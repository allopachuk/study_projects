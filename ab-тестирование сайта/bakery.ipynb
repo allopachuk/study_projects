{
 "cells": [
  {
   "cell_type": "markdown",
   "id": "b6c7f28d-b65b-4bb6-84c0-e51fd888bc16",
   "metadata": {},
   "source": [
    "Цель тестирования - понять, оказывает ли какое-то влияние новая версия сайта на поведение пользователей.  \n",
    "Соответственно, нулевая гипотеза - новая версия сайта не оказывает никакого влияния, альтернативная - новая версия изменила поведение пользователей.  \n",
    "В качестве метрики будем использовать конверсию посещения сайта в покупку, то есть долю тех, кто купил, от тех, кто зашёл на сайт.  \n",
    "Старую версию сайта без фотографий будем показывать пользователям контрольной группы, новую версию - пользователям тестовой группы."
   ]
  },
  {
   "cell_type": "markdown",
   "id": "980e5c97-39fd-4278-a030-88976a0311b1",
   "metadata": {},
   "source": [
    "Импортируем нужные библиотеки и загрузим датасет"
   ]
  },
  {
   "cell_type": "code",
   "execution_count": 18,
   "id": "d1e287fb-02ad-4d72-8869-49f76fb167ab",
   "metadata": {},
   "outputs": [],
   "source": [
    "import numpy as np\n",
    "import pandas as pd\n",
    "import matplotlib.pyplot as plt"
   ]
  },
  {
   "cell_type": "code",
   "execution_count": 19,
   "id": "fd56eb54-6bc9-4046-bba5-87bd8a3c299d",
   "metadata": {},
   "outputs": [],
   "source": [
    "df = pd.read_csv(\"datasets/bakery.csv\")"
   ]
  },
  {
   "cell_type": "code",
   "execution_count": 20,
   "id": "d77b0072-3f25-4f9d-bc0f-49c5329dbdba",
   "metadata": {},
   "outputs": [
    {
     "data": {
      "text/html": [
       "<div>\n",
       "<style scoped>\n",
       "    .dataframe tbody tr th:only-of-type {\n",
       "        vertical-align: middle;\n",
       "    }\n",
       "\n",
       "    .dataframe tbody tr th {\n",
       "        vertical-align: top;\n",
       "    }\n",
       "\n",
       "    .dataframe thead th {\n",
       "        text-align: right;\n",
       "    }\n",
       "</style>\n",
       "<table border=\"1\" class=\"dataframe\">\n",
       "  <thead>\n",
       "    <tr style=\"text-align: right;\">\n",
       "      <th></th>\n",
       "      <th>user_id</th>\n",
       "      <th>timestamp</th>\n",
       "      <th>group</th>\n",
       "      <th>landing_page</th>\n",
       "      <th>converted</th>\n",
       "    </tr>\n",
       "  </thead>\n",
       "  <tbody>\n",
       "    <tr>\n",
       "      <th>0</th>\n",
       "      <td>851104</td>\n",
       "      <td>11:48.6</td>\n",
       "      <td>control</td>\n",
       "      <td>old_page</td>\n",
       "      <td>0</td>\n",
       "    </tr>\n",
       "    <tr>\n",
       "      <th>1</th>\n",
       "      <td>804228</td>\n",
       "      <td>01:45.2</td>\n",
       "      <td>control</td>\n",
       "      <td>old_page</td>\n",
       "      <td>0</td>\n",
       "    </tr>\n",
       "    <tr>\n",
       "      <th>2</th>\n",
       "      <td>661590</td>\n",
       "      <td>55:06.2</td>\n",
       "      <td>treatment</td>\n",
       "      <td>new_page</td>\n",
       "      <td>0</td>\n",
       "    </tr>\n",
       "    <tr>\n",
       "      <th>3</th>\n",
       "      <td>853541</td>\n",
       "      <td>28:03.1</td>\n",
       "      <td>treatment</td>\n",
       "      <td>new_page</td>\n",
       "      <td>0</td>\n",
       "    </tr>\n",
       "    <tr>\n",
       "      <th>4</th>\n",
       "      <td>864975</td>\n",
       "      <td>52:26.2</td>\n",
       "      <td>control</td>\n",
       "      <td>old_page</td>\n",
       "      <td>1</td>\n",
       "    </tr>\n",
       "  </tbody>\n",
       "</table>\n",
       "</div>"
      ],
      "text/plain": [
       "   user_id timestamp      group landing_page  converted\n",
       "0   851104   11:48.6    control     old_page          0\n",
       "1   804228   01:45.2    control     old_page          0\n",
       "2   661590   55:06.2  treatment     new_page          0\n",
       "3   853541   28:03.1  treatment     new_page          0\n",
       "4   864975   52:26.2    control     old_page          1"
      ]
     },
     "execution_count": 20,
     "metadata": {},
     "output_type": "execute_result"
    }
   ],
   "source": [
    "df.head()"
   ]
  },
  {
   "cell_type": "markdown",
   "id": "c774232e-983e-4d76-9cb7-d323cc955dd1",
   "metadata": {},
   "source": [
    "### Предобработка данных"
   ]
  },
  {
   "cell_type": "code",
   "execution_count": 21,
   "id": "7b375d8a-a5d5-4d88-b2c2-a8009929f36d",
   "metadata": {},
   "outputs": [
    {
     "data": {
      "text/plain": [
       "294478"
      ]
     },
     "execution_count": 21,
     "metadata": {},
     "output_type": "execute_result"
    }
   ],
   "source": [
    "df.shape[0]"
   ]
  },
  {
   "cell_type": "markdown",
   "id": "f742e3b7-de9d-4c8e-a457-68b22a1e1bd2",
   "metadata": {},
   "source": [
    "В таблице содержатся данные о 294478 пользователях"
   ]
  },
  {
   "cell_type": "code",
   "execution_count": 22,
   "id": "c291037e-5379-46e5-a585-f64475650fa0",
   "metadata": {},
   "outputs": [
    {
     "data": {
      "text/plain": [
       "290584"
      ]
     },
     "execution_count": 22,
     "metadata": {},
     "output_type": "execute_result"
    }
   ],
   "source": [
    "df.user_id.nunique()"
   ]
  },
  {
   "cell_type": "markdown",
   "id": "eae2c4b4-9326-4ec9-9d2d-941a458baeac",
   "metadata": {},
   "source": [
    "Из них уникальных пользователей - 290584. Значит, есть пользователи, которые посетили страницу больше одного раза и, возможно, видели оба варианта страницы. Это может привести к некорректному результату. Оставим записи только о тех пользователях, которые находятся в контрольной группе и видели старую версию, и о пользователях, которые находятся в тестовой группе и видели новую версию"
   ]
  },
  {
   "cell_type": "code",
   "execution_count": 23,
   "id": "6d0f959d-f850-46ee-a713-f34c45f83074",
   "metadata": {},
   "outputs": [],
   "source": [
    "df = df.loc[((df.group == 'control') & (df.landing_page == 'old_page')) \\\n",
    "       | ((df.group == 'treatment') & (df.landing_page == 'new_page'))]"
   ]
  },
  {
   "cell_type": "code",
   "execution_count": 24,
   "id": "4cc724a3-3fb6-4bf8-84c0-bacbd066939e",
   "metadata": {},
   "outputs": [
    {
     "data": {
      "text/plain": [
       "290585"
      ]
     },
     "execution_count": 24,
     "metadata": {},
     "output_type": "execute_result"
    }
   ],
   "source": [
    "df.shape[0]"
   ]
  },
  {
   "cell_type": "markdown",
   "id": "7729d9c3-da30-407b-b006-d6fa9c81df6a",
   "metadata": {},
   "source": [
    "Теперь число пользователей - 290585, что на один больше, чем количество уникальных пользователей. Скорее всего, какой-то пользователь был помещён и в контрольную, и в тестовую группу. Оставим только одну запись"
   ]
  },
  {
   "cell_type": "code",
   "execution_count": 25,
   "id": "f8e77f2f-e0d3-4d4c-a548-bc50a1f25897",
   "metadata": {},
   "outputs": [],
   "source": [
    "df = df.drop_duplicates(subset=['user_id'], keep='first')"
   ]
  },
  {
   "cell_type": "code",
   "execution_count": 26,
   "id": "68e29a10-1992-418d-8a92-9def67d819a9",
   "metadata": {},
   "outputs": [
    {
     "data": {
      "text/plain": [
       "True"
      ]
     },
     "execution_count": 26,
     "metadata": {},
     "output_type": "execute_result"
    }
   ],
   "source": [
    "df.shape[0] == df.user_id.nunique() "
   ]
  },
  {
   "cell_type": "markdown",
   "id": "35ef2d56-41cb-48df-bbc3-b917773cec33",
   "metadata": {},
   "source": [
    "Данные очищены и готовы к анализу"
   ]
  },
  {
   "cell_type": "markdown",
   "id": "1741ed42-daae-450a-8ada-9e6473d7878a",
   "metadata": {},
   "source": [
    "### Анализ данных"
   ]
  },
  {
   "cell_type": "markdown",
   "id": "1be6e629-16e0-4413-a5e7-e2db335d0c1c",
   "metadata": {},
   "source": [
    "Проверим, что количество пользователей в контрольной и тестовой группе примерно одинаково"
   ]
  },
  {
   "cell_type": "code",
   "execution_count": 27,
   "id": "6b801900-fe94-41fd-a9a7-9e2ea0de9391",
   "metadata": {},
   "outputs": [
    {
     "data": {
      "text/html": [
       "<div>\n",
       "<style scoped>\n",
       "    .dataframe tbody tr th:only-of-type {\n",
       "        vertical-align: middle;\n",
       "    }\n",
       "\n",
       "    .dataframe tbody tr th {\n",
       "        vertical-align: top;\n",
       "    }\n",
       "\n",
       "    .dataframe thead th {\n",
       "        text-align: right;\n",
       "    }\n",
       "</style>\n",
       "<table border=\"1\" class=\"dataframe\">\n",
       "  <thead>\n",
       "    <tr style=\"text-align: right;\">\n",
       "      <th></th>\n",
       "      <th>user_id</th>\n",
       "      <th>timestamp</th>\n",
       "      <th>landing_page</th>\n",
       "      <th>converted</th>\n",
       "    </tr>\n",
       "    <tr>\n",
       "      <th>group</th>\n",
       "      <th></th>\n",
       "      <th></th>\n",
       "      <th></th>\n",
       "      <th></th>\n",
       "    </tr>\n",
       "  </thead>\n",
       "  <tbody>\n",
       "    <tr>\n",
       "      <th>control</th>\n",
       "      <td>145274</td>\n",
       "      <td>145274</td>\n",
       "      <td>145274</td>\n",
       "      <td>145274</td>\n",
       "    </tr>\n",
       "    <tr>\n",
       "      <th>treatment</th>\n",
       "      <td>145310</td>\n",
       "      <td>145310</td>\n",
       "      <td>145310</td>\n",
       "      <td>145310</td>\n",
       "    </tr>\n",
       "  </tbody>\n",
       "</table>\n",
       "</div>"
      ],
      "text/plain": [
       "           user_id  timestamp  landing_page  converted\n",
       "group                                                 \n",
       "control     145274     145274        145274     145274\n",
       "treatment   145310     145310        145310     145310"
      ]
     },
     "execution_count": 27,
     "metadata": {},
     "output_type": "execute_result"
    }
   ],
   "source": [
    "df.groupby('group').count()"
   ]
  },
  {
   "cell_type": "code",
   "execution_count": 28,
   "id": "bb55cceb-0ef4-48f6-a484-9026fa66fbf2",
   "metadata": {},
   "outputs": [
    {
     "data": {
      "text/plain": [
       "<AxesSubplot:>"
      ]
     },
     "execution_count": 28,
     "metadata": {},
     "output_type": "execute_result"
    },
    {
     "data": {
      "image/png": "[encoded data removed]",
      "text/plain": [
       "<Figure size 432x288 with 1 Axes>"
      ]
     },
     "metadata": {
      "needs_background": "light"
     },
     "output_type": "display_data"
    }
   ],
   "source": [
    "df.group.value_counts().plot(kind='bar')"
   ]
  },
  {
   "cell_type": "markdown",
   "id": "ac522dd0-a3fb-47d5-a8e9-c998e68e0c01",
   "metadata": {},
   "source": [
    "Таким образом, различия в размерах групп вряд ли повлияют на результаты статистического анализа"
   ]
  },
  {
   "cell_type": "markdown",
   "id": "675b7238-8fa8-431b-abd6-5e1785ed5fe5",
   "metadata": {},
   "source": [
    "Считаем конверсию"
   ]
  },
  {
   "cell_type": "code",
   "execution_count": 29,
   "id": "65668cf2-5e96-4bfa-bc04-6882382ebb54",
   "metadata": {},
   "outputs": [
    {
     "data": {
      "text/html": [
       "<div>\n",
       "<style scoped>\n",
       "    .dataframe tbody tr th:only-of-type {\n",
       "        vertical-align: middle;\n",
       "    }\n",
       "\n",
       "    .dataframe tbody tr th {\n",
       "        vertical-align: top;\n",
       "    }\n",
       "\n",
       "    .dataframe thead th {\n",
       "        text-align: right;\n",
       "    }\n",
       "</style>\n",
       "<table border=\"1\" class=\"dataframe\">\n",
       "  <thead>\n",
       "    <tr style=\"text-align: right;\">\n",
       "      <th></th>\n",
       "      <th>group</th>\n",
       "      <th>user_id</th>\n",
       "      <th>converted</th>\n",
       "      <th>conversion</th>\n",
       "    </tr>\n",
       "  </thead>\n",
       "  <tbody>\n",
       "    <tr>\n",
       "      <th>0</th>\n",
       "      <td>control</td>\n",
       "      <td>145274</td>\n",
       "      <td>17489</td>\n",
       "      <td>12.04</td>\n",
       "    </tr>\n",
       "    <tr>\n",
       "      <th>1</th>\n",
       "      <td>treatment</td>\n",
       "      <td>145310</td>\n",
       "      <td>17264</td>\n",
       "      <td>11.88</td>\n",
       "    </tr>\n",
       "  </tbody>\n",
       "</table>\n",
       "</div>"
      ],
      "text/plain": [
       "       group  user_id  converted  conversion\n",
       "0    control   145274      17489       12.04\n",
       "1  treatment   145310      17264       11.88"
      ]
     },
     "execution_count": 29,
     "metadata": {},
     "output_type": "execute_result"
    }
   ],
   "source": [
    "metrics = df.groupby('group', as_index=False).agg({'user_id': 'count', 'converted': 'sum'})\n",
    "metrics['conversion'] = (metrics.converted / metrics.user_id * 100).round(2)\n",
    "metrics"
   ]
  },
  {
   "cell_type": "markdown",
   "id": "a57a7a2c-97d2-4557-a53f-5b321e9d225c",
   "metadata": {},
   "source": [
    "Конверсия тестовой группы ухудшилась"
   ]
  },
  {
   "cell_type": "markdown",
   "id": "964ceb28-beb2-47ae-92ed-d89984ca38b7",
   "metadata": {},
   "source": [
    "Есть ли неслучайная разница между группами? Действительно ли метрика ухудшилась или это погрешность?\n",
    "Проверим.  \n",
    "Воспользуемся критерием хи-квадрат для анализа конверсии"
   ]
  },
  {
   "cell_type": "code",
   "execution_count": 30,
   "id": "7913aa58-4c93-4506-854a-9d63d2765d15",
   "metadata": {},
   "outputs": [],
   "source": [
    "import statsmodels.stats.proportion as proportion"
   ]
  },
  {
   "cell_type": "code",
   "execution_count": 31,
   "id": "1f153b3c-cbe2-4639-a747-9c1d7e7f79d0",
   "metadata": {},
   "outputs": [],
   "source": [
    "chi2stat, pval, table = proportion.proportions_chisquare(metrics['converted'], metrics['user_id'])"
   ]
  },
  {
   "cell_type": "code",
   "execution_count": 32,
   "id": "d9fc8eb8-a51d-4b77-8eec-d51eca20aabf",
   "metadata": {},
   "outputs": [],
   "source": [
    "alpha = 0.05  # уровень статистической значимости"
   ]
  },
  {
   "cell_type": "code",
   "execution_count": 33,
   "id": "29b3ce3f-d234-445f-924b-059608fa5d15",
   "metadata": {},
   "outputs": [
    {
     "name": "stdout",
     "output_type": "stream",
     "text": [
      "False\n"
     ]
    }
   ],
   "source": [
    "print(pval < alpha)"
   ]
  },
  {
   "cell_type": "markdown",
   "id": "8bd23487-db17-44b7-a1cb-06a2299d0b8f",
   "metadata": {},
   "source": [
    "p-value меньше уровня статистической значимости, следовательно, статистически значимой разницы в конверсии между двумя группами не обнаружено"
   ]
  },
  {
   "cell_type": "markdown",
   "id": "6b4b89bd-0e4d-498e-a8ee-35c7f780cf0a",
   "metadata": {},
   "source": [
    "А были ли у нас шансы увидеть какую-то разницу между группами? Вычислим мощность нашего теста при использовании критерия хи-квадрат"
   ]
  },
  {
   "cell_type": "code",
   "execution_count": 34,
   "id": "8a0f8b27-301f-4d85-b3c8-52113cf72e68",
   "metadata": {},
   "outputs": [],
   "source": [
    "import statsmodels.stats.power as smp"
   ]
  },
  {
   "cell_type": "code",
   "execution_count": 35,
   "id": "043143a3-00ab-4f6f-8957-fdc24a44e8f6",
   "metadata": {},
   "outputs": [],
   "source": [
    "chipower = smp.GofChisquarePower()"
   ]
  },
  {
   "cell_type": "code",
   "execution_count": 36,
   "id": "e1e2469a-c8a0-4b24-96e5-a73be24e3570",
   "metadata": {},
   "outputs": [],
   "source": [
    "conversion_control = metrics.conversion.values[0] / 100\n",
    "conversion_treatment = metrics.conversion.values[1] / 100\n",
    "nobs = min(metrics['user_id'])"
   ]
  },
  {
   "cell_type": "code",
   "execution_count": 37,
   "id": "3f0f4d6e-0d0e-4f97-b6f2-e2d2a4f77d23",
   "metadata": {},
   "outputs": [],
   "source": [
    "def chi2_effect_size(p0, p1):\n",
    "    return np.sqrt(((p0 - p1)**2 / p0))"
   ]
  },
  {
   "cell_type": "code",
   "execution_count": 38,
   "id": "2bff5e5c-4175-49a2-9afe-f05305ae1cb1",
   "metadata": {},
   "outputs": [
    {
     "data": {
      "text/plain": [
       "0.6734930128809633"
      ]
     },
     "execution_count": 38,
     "metadata": {},
     "output_type": "execute_result"
    }
   ],
   "source": [
    "chipower.solve_power(effect_size = chi2_effect_size(conversion_control, conversion_treatment), nobs=nobs, alpha=pval, power=None)"
   ]
  },
  {
   "cell_type": "markdown",
   "id": "39f90cea-b5af-43c3-8946-c93ed6e28e1d",
   "metadata": {},
   "source": [
    "Получаем достаточно низкое значение - 67%. Стандартным значением мощности является 80% и выше.  \n",
    "Значит, с вероятностью более чем 32% мы бы не увидели статистически значимых отличий там, где они существуют."
   ]
  },
  {
   "cell_type": "markdown",
   "id": "de75b591-0c00-4959-b2e0-ab24b44636a3",
   "metadata": {},
   "source": [
    "Вычислим количество наблюдений, необходимых для получения желаемого уровня мощности"
   ]
  },
  {
   "cell_type": "code",
   "execution_count": 39,
   "id": "3eaccdbb-de2c-4a68-b207-18023ebe0064",
   "metadata": {},
   "outputs": [],
   "source": [
    "power = 0.8"
   ]
  },
  {
   "cell_type": "code",
   "execution_count": 40,
   "id": "a379b452-137f-4fdf-b9cf-0a9c9ac023d3",
   "metadata": {},
   "outputs": [
    {
     "data": {
      "text/plain": [
       "369141.72082925116"
      ]
     },
     "execution_count": 40,
     "metadata": {},
     "output_type": "execute_result"
    }
   ],
   "source": [
    "size_of_each_test_group = chipower.solve_power(effect_size = chi2_effect_size(conversion_control, conversion_treatment), \n",
    "            nobs=None, alpha=alpha, power=power)\n",
    "size_of_each_test_group"
   ]
  },
  {
   "cell_type": "markdown",
   "id": "5da1b8d3-5adf-42c0-b207-8b4f03f83762",
   "metadata": {},
   "source": [
    "Умножим на 2, так как групп 2"
   ]
  },
  {
   "cell_type": "code",
   "execution_count": 41,
   "id": "cf7be797-40bb-49e6-8774-b84a1e6dd1d6",
   "metadata": {},
   "outputs": [
    {
     "data": {
      "text/plain": [
       "738283.4416585023"
      ]
     },
     "execution_count": 41,
     "metadata": {},
     "output_type": "execute_result"
    }
   ],
   "source": [
    "2*size_of_each_test_group"
   ]
  },
  {
   "cell_type": "markdown",
   "id": "85ffdc09-7bc0-43c2-9813-68766da55e75",
   "metadata": {},
   "source": [
    "### Вывод\n",
    "Необходимо продолжить набор данных и только потом подводить итоги эксперимента"
   ]
  }
 ],
 "metadata": {
  "kernelspec": {
   "display_name": "Python 3 (ipykernel)",
   "language": "python",
   "name": "python3"
  },
  "language_info": {
   "codemirror_mode": {
    "name": "ipython",
    "version": 3
   },
   "file_extension": ".py",
   "mimetype": "text/x-python",
   "name": "python",
   "nbconvert_exporter": "python",
   "pygments_lexer": "ipython3",
   "version": "3.8.10"
  }
 },
 "nbformat": 4,
 "nbformat_minor": 5
}
